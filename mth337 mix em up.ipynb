{
 "cells": [
  {
   "cell_type": "markdown",
   "id": "ba3c6db3",
   "metadata": {},
   "source": [
    "# Mix 'Em Up"
   ]
  },
  {
   "cell_type": "markdown",
   "id": "69753781",
   "metadata": {},
   "source": [
    "Project 2 - Shahed Hanif"
   ]
  },
  {
   "cell_type": "markdown",
   "id": "eaa71547",
   "metadata": {},
   "source": [
    "## Introduction\n",
    "\n",
    "Shuffling a deck of cards is a simple yet fascinating process that generates a unique arrangement of cards each time. While shuffling may seem like a straightforward task, the randomness it produces is essential for ensuring that the game of cards remain fair and unpredictable. From the casual game of poker with friends to high-stakes tournaments, shuffling plays a critical role in determining the outcome of the game. However, the concept of randomness in shuffling is not always easy to understand or quantify, and it has captured the attention of mathematicians and scientists for centuries.\n",
    "\n",
    "In this report, we will study the randomness of shuffling a deck of cards. The shuffling methods we will study are the classic riffle, middle out method, top-to-bottom re-stack, and the over-under re-stack.\n",
    "\n",
    "Our first objective will be to produce an ordered deck of cards (as well as a random deck) to see how our shuffling methods change the randomness of a new deck order over many iterations of the shuffle. \n",
    "\n",
    "Next we will try to emulate how shuffling methods in real life work by extensively using the `random` library and creating a Python function for each.\n",
    "\n",
    "We will have to define a proper measure of randomness, so we will also be creating a formula that correctly calculates the randomness of the decks generated using the average distance between adjacent pairs of cards as well as between every other pair of cards.\n",
    "\n",
    "Lastly, we will observe the average randomness of each of the shuffling methods on an ordered deck of cards, see which shuffling method reaches an acceptable level of randomness the fastest, and finally, we will look at how alternating the shuffling methods impacts the randomness."
   ]
  },
  {
   "cell_type": "markdown",
   "id": "b290e19e",
   "metadata": {},
   "source": [
    "## Deck of Cards\n",
    "\n",
    "To start things off, we need to create a standard deck of 52 cards. When you open a fresh new pack of cards before its been handled, cut, or shuffled it comes in the standard new deck order. We will assign each card in the new deck order an integer from 1 to 52.\n",
    "\n",
    "The function `deck` below will generate a new deck order of $n$ cards and we will repeatedly use this function to analyze several of the shuffling methods."
   ]
  },
  {
   "cell_type": "code",
   "execution_count": 429,
   "id": "31ba93ba",
   "metadata": {},
   "outputs": [],
   "source": [
    "# Generate a list of integers from 1 to n\n",
    "def ordered_deck(n):\n",
    "    ordered_deck = [i for i in range(1, n+1)]\n",
    "    return ordered_deck"
   ]
  },
  {
   "cell_type": "markdown",
   "id": "0a635b62",
   "metadata": {},
   "source": [
    "Here is our new deck order, we will be using this function extensively!"
   ]
  },
  {
   "cell_type": "code",
   "execution_count": 428,
   "id": "d01effad",
   "metadata": {},
   "outputs": [
    {
     "name": "stdout",
     "output_type": "stream",
     "text": [
      "[1, 2, 3, 4, 5, 6, 7, 8, 9, 10, 11, 12, 13, 14, 15, 16, 17, 18, 19, 20, 21, 22, 23, 24, 25, 26, 27, 28, 29, 30, 31, 32, 33, 34, 35, 36, 37, 38, 39, 40, 41, 42, 43, 44, 45, 46, 47, 48, 49, 50, 51, 52]\n"
     ]
    }
   ],
   "source": [
    "print(ordered_deck(52))"
   ]
  },
  {
   "cell_type": "markdown",
   "id": "4654e15b",
   "metadata": {},
   "source": [
    "### Random Deck"
   ]
  },
  {
   "cell_type": "markdown",
   "id": "c4471374",
   "metadata": {},
   "source": [
    "We may also want to have a random deck of cards to test the behavior of our shuffling methods to determine whether or not they undo the randomness.\n",
    "\n",
    "The function `random_deck` below generates a random deck of $n$ cards."
   ]
  },
  {
   "cell_type": "code",
   "execution_count": 280,
   "id": "07021c8c",
   "metadata": {},
   "outputs": [],
   "source": [
    "def random_deck(n):\n",
    "    # Create a list containing an ordered deck of 52 cards, where each card is represented by an integer from 1 to 52\n",
    "    deck = [i for i in range(1, 52+1)]\n",
    "\n",
    "    # Generates a random deck of n cards without repeats\n",
    "    random_deck = []\n",
    "    for i in range(n):\n",
    "        # Select a random index from the remaining cards in the deck\n",
    "        card_index = random.randint(0,len(deck)-1)\n",
    "        # Append the card at the selected index to the random deck\n",
    "        random_deck.append(deck[card_index])\n",
    "        # Remove the selected card from the deck to avoid duplicates\n",
    "        deck.pop(card_index)\n",
    "    \n",
    "    # Return the list of n randomly selected cards\n",
    "    return random_deck"
   ]
  },
  {
   "cell_type": "markdown",
   "id": "ebe7a458",
   "metadata": {},
   "source": [
    "## Shuffling Methods"
   ]
  },
  {
   "cell_type": "markdown",
   "id": "d41405c2",
   "metadata": {},
   "source": [
    "There are many shuffling methods to consider, but for this report we will study the classic riffle, middle-out, top-to-bottom re-stack, and a custom shuffle, called the over-under re-stack. The purpose of this section will be to define several Python functions that take in a deck of cards as input and output a shuffled deck of cards using the different shuffling methods aforementioned.\n",
    "\n",
    "Some of these shuffling methods as you will see require extensive use of probability distributions and ways to incorporate some degree of variation or randomness. To do this we will make use of the functions `randint` and `binomial`. It is crucial to understand how the shuffling methods are defined using these two functions to see how it impacts the randomness of our deck, so here are some ways we will be using these two functions:\n",
    "\n",
    "`randint` will help us generate a random integer corresponding to a card in our deck or model a scenario in which the probability is 50%, amongst other scenarios that will become apparent.\n",
    "\n",
    "To introduce a more realistic distribution of card counts when dividing a deck into multiple sections, `binomial` can be employed to model the variability that arises from random chance by taking values from a binomial distribution. It is unrealistic to assume that each section will contain an equal number of cards."
   ]
  },
  {
   "cell_type": "code",
   "execution_count": 281,
   "id": "43e28d9b",
   "metadata": {},
   "outputs": [],
   "source": [
    "# Import needed libraries and functions to create shuffling methods\n",
    "import random\n",
    "from numpy.random import binomial"
   ]
  },
  {
   "cell_type": "markdown",
   "id": "3a14a1ff",
   "metadata": {},
   "source": [
    "### Classic Riffle"
   ]
  },
  {
   "cell_type": "markdown",
   "id": "5e242166",
   "metadata": {},
   "source": [
    "To perform a classic riffle, the deck is divided into two roughly equal halve and a new deck from the bottom up by randomly choosing either the bottom card from the left or right hand, and repeating this process until one hand has exhausted all its cards. In the event that one hand empties out before the other, any leftover cards from the other hand are placed on top of the newly constructed deck.\n",
    "\n",
    "The function `classic_riffle` takes in a deck of cards and outputs a shuffled deck using the classic riffle method."
   ]
  },
  {
   "cell_type": "code",
   "execution_count": 282,
   "id": "ac91e9e4",
   "metadata": {},
   "outputs": [],
   "source": [
    "def classic_riffle(deck):\n",
    "    # Determine # of cards in deck\n",
    "    n = len(deck)\n",
    "    \n",
    "    # Determine # of cards to include in each half of deck using binomial distribution\n",
    "    split = binomial(n,0.5)\n",
    "    \n",
    "    # Divide the deck roughly into halves\n",
    "    half_1 = deck[:split]\n",
    "    half_2 = deck[split:]\n",
    "    \n",
    "    # Perform a classic riffle shuffle on the two halves of the deck\n",
    "    shuffled_deck = []\n",
    "    while half_1 and half_2: # Reference [1]\n",
    "        # Select a card from the bottom of either half with a 0.5 probability\n",
    "        if random.randint(0,1) == 0:\n",
    "            shuffled_deck.append(half_1.pop(0))\n",
    "        else:\n",
    "            shuffled_deck.append(half_2.pop(0))\n",
    "            \n",
    "    # Leftover cards in either half of deck add to shuffled deck unaltered\n",
    "    if half_1:\n",
    "        shuffled_deck.extend(half_1)\n",
    "    else:\n",
    "        shuffled_deck.extend(half_2)\n",
    "    \n",
    "    # Return the shuffled_deck\n",
    "    return shuffled_deck"
   ]
  },
  {
   "cell_type": "markdown",
   "id": "d25b0ccb",
   "metadata": {},
   "source": [
    "As a demonstration, let's use our function on the new deck order. Each time you run this function you will notice that the final few cards are oftentimes left untouched preventing our deck from being truly random. Later we will observe how this impacts the measure of randomness."
   ]
  },
  {
   "cell_type": "code",
   "execution_count": 283,
   "id": "1e7d6eb2",
   "metadata": {},
   "outputs": [
    {
     "name": "stdout",
     "output_type": "stream",
     "text": [
      "[29, 30, 31, 1, 2, 3, 32, 4, 5, 6, 7, 8, 33, 34, 35, 9, 10, 11, 36, 37, 12, 13, 14, 15, 16, 38, 39, 17, 18, 40, 41, 42, 43, 44, 19, 20, 45, 46, 47, 21, 48, 22, 23, 24, 49, 25, 26, 50, 27, 28, 51, 52]\n"
     ]
    }
   ],
   "source": [
    "print(classic_riffle(ordered_deck()))"
   ]
  },
  {
   "cell_type": "markdown",
   "id": "221e9419",
   "metadata": {},
   "source": [
    "### Middle-Out"
   ]
  },
  {
   "cell_type": "markdown",
   "id": "d1c57e11",
   "metadata": {},
   "source": [
    "The middle-out method involves dividing the deck roughly into thirds, after which the middle third is placed either on the top or bottom of the deck.\n",
    "\n",
    "The function `middle_out` takes in a deck of cards and outputs a shuffled deck using this method. The function assumes that the deck is split into thirds at the same time."
   ]
  },
  {
   "cell_type": "code",
   "execution_count": 284,
   "id": "2ab7093c",
   "metadata": {},
   "outputs": [],
   "source": [
    "def middle_out(deck):\n",
    "    # Determine # of cards in deck\n",
    "    n = len(deck)\n",
    "    \n",
    "    # Determine # of cards to include in each third of deck\n",
    "    breakpoint_1 = binomial((n // 3)*2,0.5)\n",
    "    breakpoint_2 = binomial((n // 3)*2,0.5) + n // 3 # Shift breakpoint point by roughly a third\n",
    "    \n",
    "    # Divide the deck roughly into thirds\n",
    "    third_1 = deck[:breakpoint_1]\n",
    "    third_2 = deck[breakpoint_1:breakpoint_2]\n",
    "    third_3 = deck[breakpoint_2:]\n",
    "    \n",
    "    # Place middle third on top or bottom of deck with 0.5 probability\n",
    "    if random.randint(0,1) == 0:\n",
    "        shuffled_deck = third_2 + third_1 + third_3 # on top\n",
    "    else:\n",
    "        shuffled_deck = third_1 + third_3 + third_2 # on bottom\n",
    "    \n",
    "    # Return the shuffled_deck\n",
    "    return shuffled_deck"
   ]
  },
  {
   "cell_type": "markdown",
   "id": "03386801",
   "metadata": {},
   "source": [
    "Here's the result of the middle-out method on the new deck order. You will notice that it is not a very good way of shuffling a deck of cards as the order of the cards are mostly intact, so we can assume that its measure of randomness will be less than that of the classic riffle."
   ]
  },
  {
   "cell_type": "code",
   "execution_count": 373,
   "id": "b86604ac",
   "metadata": {},
   "outputs": [
    {
     "name": "stdout",
     "output_type": "stream",
     "text": [
      "[21, 22, 23, 24, 25, 26, 27, 28, 29, 30, 31, 1, 2, 3, 4, 5, 6, 7, 8, 9, 10, 11, 12, 13, 14, 15, 16, 17, 18, 19, 20, 32, 33, 34, 35, 36, 37, 38, 39, 40, 41, 42, 43, 44, 45, 46, 47, 48, 49, 50, 51, 52]\n"
     ]
    }
   ],
   "source": [
    "print(middle_out(ordered_deck(52)))"
   ]
  },
  {
   "cell_type": "markdown",
   "id": "44c1dbdc",
   "metadata": {},
   "source": [
    "### Top-to-bottom Re-stack"
   ]
  },
  {
   "cell_type": "markdown",
   "id": "92d42083",
   "metadata": {},
   "source": [
    "In the top-to-bottom re-stack, a deck of cards is divided into a random number of sections with a random number of cards. Then, the order of the deck is rearranged by reversing the order of the sections."
   ]
  },
  {
   "cell_type": "markdown",
   "id": "9ff197ce",
   "metadata": {},
   "source": [
    "Below is the function `topbottom_restack` which takes in a deck of cards and outputs a shuffled deck. The function is defined such that a section can have anywhere from 1 to 52 cards. The function first randomly determines how many cards to include in the first section, then moves on to calculate the cards for the remaining sections until there are no cards left in the deck."
   ]
  },
  {
   "cell_type": "code",
   "execution_count": 286,
   "id": "3aac7a6f",
   "metadata": {},
   "outputs": [],
   "source": [
    "def topbottom_restack(deck):\n",
    "    \n",
    "    # List to hold all sections of deck\n",
    "    sections = []\n",
    "    \n",
    "    # Loop until all cards of the deck have been included in a section\n",
    "    while deck:\n",
    "        # Determine a random number of cards for next section\n",
    "        section_cards = random.randint(1, len(deck))\n",
    "        # Add next section of cards to list of sections\n",
    "        sections.append(deck[:section_cards])\n",
    "        # Remove cards we just added to the section from the deck\n",
    "        deck = deck[section_cards:]\n",
    "    \n",
    "    # Reverse the order of the sections\n",
    "    sections.reverse()\n",
    "    \n",
    "    # Combine all the sections into one shuffled deck\n",
    "    shuffled_deck = []\n",
    "    for i in range(len(sections)):\n",
    "        shuffled_deck.extend(sections[i])\n",
    "    \n",
    "    # Return the shuffled deck\n",
    "    return shuffled_deck"
   ]
  },
  {
   "cell_type": "markdown",
   "id": "a674463c",
   "metadata": {},
   "source": [
    "Let's see the top-bottom re-stack in action! Below is an example of the top-bottom re-stack applied to the new deck order."
   ]
  },
  {
   "cell_type": "code",
   "execution_count": 372,
   "id": "d7d02cc7",
   "metadata": {},
   "outputs": [
    {
     "name": "stdout",
     "output_type": "stream",
     "text": [
      "[51, 52, 48, 49, 50, 39, 40, 41, 42, 43, 44, 45, 46, 47, 1, 2, 3, 4, 5, 6, 7, 8, 9, 10, 11, 12, 13, 14, 15, 16, 17, 18, 19, 20, 21, 22, 23, 24, 25, 26, 27, 28, 29, 30, 31, 32, 33, 34, 35, 36, 37, 38]\n"
     ]
    }
   ],
   "source": [
    "print(topbottom_restack(ordered_deck(52)))"
   ]
  },
  {
   "cell_type": "markdown",
   "id": "413d043c",
   "metadata": {},
   "source": [
    "### Over-under Re-stack"
   ]
  },
  {
   "cell_type": "markdown",
   "id": "4f0848ec",
   "metadata": {},
   "source": [
    "The over-under re-stack is admittedly the slowest shuffle here whereby you repeatedly take the top and bottom card of the deck and place both of them in a new pile until there are no more cards in the original deck. There is very little random variation in this shuffle, it is pretty much precise."
   ]
  },
  {
   "cell_type": "markdown",
   "id": "29e5dab9",
   "metadata": {},
   "source": [
    "The function `overunder` below is in charge of performing this tedious shuffle on a deck of cards."
   ]
  },
  {
   "cell_type": "code",
   "execution_count": 307,
   "id": "a009cee0",
   "metadata": {},
   "outputs": [],
   "source": [
    "def overunder(deck):\n",
    "    shuffled_deck = []\n",
    "    \n",
    "    # Loop until all the cards in the original deck are in the new pile\n",
    "    while len(deck) > 0:\n",
    "        # Remove the top card from the deck and add it to the new pile of cards\n",
    "        top_card = deck.pop(0)\n",
    "        shuffled_deck.append(top_card)\n",
    "        # If there are still cards left in the deck, remove the bottom card and add it to the deck\n",
    "        if len(deck) > 0:\n",
    "            bottom_card = deck.pop()\n",
    "            shuffled_deck.append(bottom_card)\n",
    "            \n",
    "    # Return the shuffled deck.\n",
    "    return shuffled_deck"
   ]
  },
  {
   "cell_type": "markdown",
   "id": "cdbacf00",
   "metadata": {},
   "source": [
    "A shuffled new deck order using the over-under re-stack is shown below. The result ends up being pretty much like a perfect riffle, we'll see later why we have chose this particular shuffle!"
   ]
  },
  {
   "cell_type": "code",
   "execution_count": 374,
   "id": "5c727741",
   "metadata": {},
   "outputs": [
    {
     "name": "stdout",
     "output_type": "stream",
     "text": [
      "[1, 52, 2, 51, 3, 50, 4, 49, 5, 48, 6, 47, 7, 46, 8, 45, 9, 44, 10, 43, 11, 42, 12, 41, 13, 40, 14, 39, 15, 38, 16, 37, 17, 36, 18, 35, 19, 34, 20, 33, 21, 32, 22, 31, 23, 30, 24, 29, 25, 28, 26, 27]\n"
     ]
    }
   ],
   "source": [
    "print(overunder(ordered_deck(52)))"
   ]
  },
  {
   "cell_type": "markdown",
   "id": "468b7bc7",
   "metadata": {},
   "source": [
    "## Measuring Randomness of a Deck of Cards\n",
    "\n",
    "The concept of randomness is not always easy to define, and how it is quantified can depend on the context in which it is used. In the case of shuffling a deck of cards, we can start with a measure of randomness that is based on the average distances between adjacent integers given by the formula below for a list of integers in the form $[n_1,n_2,...,n_k]$.\n",
    "\n",
    "$$\\frac{1}{k}\\sum_{i=1}^{k-1} |n_{i+1} - n_{i}|$$"
   ]
  },
  {
   "cell_type": "markdown",
   "id": "13a0a0f9",
   "metadata": {},
   "source": [
    "However, there is one drawback to this measure. If we consider a deck of cards that alternates between the numbers 1-26 and 27-52, while incrementing each number by 1 as seen below:\n",
    "\n",
    "$$[1,27,2,28,3,29,4,30,...,26,52]$$\n",
    "\n",
    "the measure of randomness using the formula above is about 23.25, which is pretty high (higher than a fairly random deck, you can check for yourself). One way to modify the formula to avoid this drawback is to compute the average distances between adjacent integers, as well as the average distances between every other pair of integers, which directly addresses the example deck above. This can be done by computing the sum of the absolute differences between every pair of adjacent integers, and dividing by the total number of pairs, which is $k-1$. Thus, the formula we will use is the following:\n",
    "\n",
    "$$\\frac{1}{k-1}\\left[\\sum_{i=1}^{k-1} |n_{i+1} - n_{i}| + \\sum_{i=1}^{k-2} |n_{i+2} - n_{i}| \\right]$$"
   ]
  },
  {
   "cell_type": "markdown",
   "id": "351063e7",
   "metadata": {},
   "source": [
    "The function `randomness()` will use this formula to compute a value representing how random a deck just as we described."
   ]
  },
  {
   "cell_type": "code",
   "execution_count": 370,
   "id": "d536ae7b",
   "metadata": {},
   "outputs": [],
   "source": [
    "def randomness(deck):\n",
    "    # Calculate the length of the deck\n",
    "    k = len(deck)\n",
    "    \n",
    "    # Calculate the sum of the absolute differences between adjacent pairs of integers\n",
    "    sum_1 = sum(abs(deck[i+1]-deck[i]) for i in range(k-1))\n",
    "    \n",
    "    # Calculate the sum of the absolute differences between pairs of integers that are two positions apart\n",
    "    sum_2 = sum(abs(deck[i+2]-deck[i]) for i in range(k-2))\n",
    "    \n",
    "    # Calculate the modified measure of randomness\n",
    "    randomness = (sum_1 + sum_2)/(k-1)\n",
    "    \n",
    "    # Return the modified measure of randomness\n",
    "    return randomness"
   ]
  },
  {
   "cell_type": "markdown",
   "id": "6d5700fc",
   "metadata": {},
   "source": [
    "Let's do a quick check to make sure that this formula makes sense! We should expect that the example deck above is not any more random than a truly random deck of cards, which we can generate using our handy function `random_deck`. We can also quickly test the randomness of our shuffling methods for a single shuffle of the new deck order."
   ]
  },
  {
   "cell_type": "code",
   "execution_count": 364,
   "id": "90028305",
   "metadata": {},
   "outputs": [
    {
     "name": "stdout",
     "output_type": "stream",
     "text": [
      "Randomness of particular decks\n",
      "new deck order: 2.9607843137254903\n",
      "example deck:   26.49019607843137\n",
      "random deck:  37.35294117647059\n",
      "-------------------------------------------------------------------------\n",
      "Randomness of one shuffle of the new deck order\n",
      "classic riffle:      28.0\n",
      "middle-out method:   6.294117647058823\n",
      "top-bottom re-stack: 6.627450980392157\n",
      "over-under re-stack: 26.980392156862745\n"
     ]
    }
   ],
   "source": [
    "# Deck to check if our measure of randomness makes sense\n",
    "example_deck = [1, 27, 2, 28, 3, 29, 4, 30, 5, 31, 6, 32, 7, 33, 8, 34, 9, 35, 10, 36, 11, 37, 12, 38, 13, 39, 14, 40, 15, 41, 16, 42, 17, 43, 18, 44, 19, 45, 20, 46, 21, 47, 22, 48, 23, 49, 24, 50, 25, 51, 26, 52]\n",
    "\n",
    "print('Randomness of particular decks')\n",
    "print('new deck order: ' + str(randomness(ordered_deck())))\n",
    "print('example deck:   ' + str(randomness(example_deck)))\n",
    "print('random deck:  ' + str(randomness(random_deck(52))))\n",
    "print('-------------------------------------------------------------------------')\n",
    "print('Randomness of one shuffle of the new deck order')\n",
    "print('classic riffle:      ' + str(randomness(classic_riffle(ordered_deck()))))\n",
    "print('middle-out method:   ' + str(randomness(middle_out(ordered_deck()))))\n",
    "print('top-bottom re-stack: ' + str(randomness(topbottom_restack(ordered_deck()))))\n",
    "print('over-under re-stack: ' + str(randomness(overunder(ordered_deck()))))\n"
   ]
  },
  {
   "cell_type": "markdown",
   "id": "f9dee93f",
   "metadata": {},
   "source": [
    "As you can see, the randomness of the new deck order is essentially zero from the definition of our measure of randomness, that is to say that it has the least measure of randomness. The real sign of improvement in our measure is having the randomness of a random deck be greater than the example deck we were looking at, which is not entirely random.\n",
    "\n",
    "The results of each shuffling methods is subject to change each time, so do not take these results to mean that one shuffling method is better than the other. We will analyze this later in this report!"
   ]
  },
  {
   "cell_type": "markdown",
   "id": "b8bcf4b9",
   "metadata": {},
   "source": [
    "### Measuring Randomness of Shuffling Methods"
   ]
  },
  {
   "cell_type": "markdown",
   "id": "2f9ccaaa",
   "metadata": {},
   "source": [
    "In order to decide what shuffling method is the best, we can perform 100 shuffles of each shuffling method (not consecutively) on the new deck order. First, we will generate our data that will be plotted later."
   ]
  },
  {
   "cell_type": "code",
   "execution_count": 376,
   "id": "d47b980a",
   "metadata": {},
   "outputs": [],
   "source": [
    "# Create a list that will correspond to 100 trials of each shuffling method\n",
    "shuffles = [i for i in range(1, 101)]\n",
    "\n",
    "# Create a list of the randomness of each shuffling method on the new deck order 100 times each\n",
    "riffle_randomness = [randomness(classic_riffle(ordered_deck(52))) for i in range(1, 101)]\n",
    "middleout_randomness = [randomness(middle_out(ordered_deck(52))) for i in range(1, 101)]\n",
    "topbottomrestack_randomness = [randomness(topbottom_restack(ordered_deck(52))) for i in range(1, 101)]\n",
    "overunder_randomness = [randomness(overunder(ordered_deck(52))) for i in range(1, 101)]"
   ]
  },
  {
   "cell_type": "markdown",
   "id": "5e7129ab",
   "metadata": {},
   "source": [
    "Now, using the data we have generated above we can generate a plot to study how well the shuffling methods shuffle a new deck order on the first try."
   ]
  },
  {
   "cell_type": "code",
   "execution_count": 377,
   "id": "2ae7bf4f",
   "metadata": {},
   "outputs": [
    {
     "data": {
      "image/png": "[encoded data removed]",
      "text/plain": [
       "<Figure size 432x288 with 1 Axes>"
      ]
     },
     "metadata": {
      "needs_background": "light"
     },
     "output_type": "display_data"
    }
   ],
   "source": [
    "import matplotlib.pyplot as plt\n",
    "\n",
    "# plot the highest # reached of each finite sequence as a function of k\n",
    "plt.plot(shuffles,riffle_randomness,'.', label = 'Riffle')\n",
    "plt.plot(shuffles,middleout_randomness,'.', label = 'Middle-Out')\n",
    "plt.plot(shuffles,topbottomrestack_randomness,'.', label = 'Top-Bottom Re-stack')\n",
    "plt.plot(shuffles,overunder_randomness,'.', label = 'Over-under Re-stack')\n",
    "plt.title('Randomness of Non-consecutive Shuffles on a New Deck of Cards')\n",
    "plt.xlabel('Shuffle Trials')\n",
    "plt.ylabel('Randomness')\n",
    "\n",
    "plt.legend(loc = 'upper left')\n",
    "\n",
    "plt.show() # hides unnecesary output"
   ]
  },
  {
   "cell_type": "markdown",
   "id": "5568dee9",
   "metadata": {},
   "source": [
    "Ignoring the over-under restack for a second, we probably expected the riffle shuffle to be the best shuffling method to use for the most part. A close second is the top-bottom re-stack and last, the middle-out method. There's nothing special about the over-under re-stack as of yet since there is no variation in how you can shuffle a new deck order each time. Though it may be tedious, it doesn't seem like a completely terrible method to use on the first try based on our results here."
   ]
  },
  {
   "cell_type": "markdown",
   "id": "83446d6b",
   "metadata": {},
   "source": [
    "#### Average Randomness of Shuffling Methods"
   ]
  },
  {
   "cell_type": "markdown",
   "id": "76b0acf2",
   "metadata": {},
   "source": [
    "Now let's take a look at the average randomness for each shuffling method from the plot above. We will use the function `mean` from the `statistics` library to compute the averages."
   ]
  },
  {
   "cell_type": "code",
   "execution_count": 426,
   "id": "25b86a3a",
   "metadata": {},
   "outputs": [
    {
     "name": "stdout",
     "output_type": "stream",
     "text": [
      "Average Randomness of Shuffles for 100 Trials\n",
      "---------------------------------------------\n",
      "Riffle               24.09372549019608\n",
      "Middle-Out:          5.8352941176470585\n",
      "Top-Bottom Re-stack: 6.573529411764706\n",
      "Over-under Re-stack: 26.980392156862745\n"
     ]
    }
   ],
   "source": [
    "from statistics import mean\n",
    "\n",
    "print('Average Randomness of Shuffles for 100 Trials')\n",
    "print('---------------------------------------------')\n",
    "print('Riffle               ' + str(mean(riffle_randomness)))\n",
    "print('Middle-Out:          ' + str(mean(middleout_randomness)))\n",
    "print('Top-Bottom Re-stack: ' + str(mean(topbottomrestack_randomness)))\n",
    "print('Over-under Re-stack: ' + str(mean(overunder_randomness)))"
   ]
  },
  {
   "cell_type": "markdown",
   "id": "847b8d8e",
   "metadata": {},
   "source": [
    "Just like that, these averages do indeed confirm our analysis of the plot."
   ]
  },
  {
   "cell_type": "markdown",
   "id": "dd6e8ca3",
   "metadata": {},
   "source": [
    "### Most Efficient Shuffling Method"
   ]
  },
  {
   "cell_type": "markdown",
   "id": "1d45a429",
   "metadata": {},
   "source": [
    "We might want to ask ourselves what shuffling method randomizes the cards faster. Afterall, we don't want to be shuffling 100 times during a real game, people would lose patience! Thus, let's define several functions to perform the same shuffle method $n$ times on a new deck order."
   ]
  },
  {
   "cell_type": "markdown",
   "id": "8ceb0c54",
   "metadata": {},
   "source": [
    "The following functions `repeat_riffle`, `repeat_middleout`, `repeat_topbottomrestack`, and `repeat_overunder` essentially achieve the purpose as described above and outputs the randomness at each stage of $n$ consecutive shuffles."
   ]
  },
  {
   "cell_type": "code",
   "execution_count": 391,
   "id": "13da0ff8",
   "metadata": {},
   "outputs": [],
   "source": [
    "def repeat_riffle(n):\n",
    "    randomness_values = []\n",
    "    \n",
    "    # Create a list for the new deck order\n",
    "    shuffled_deck = ordered_deck(52)\n",
    "    \n",
    "    # Perform `n` consecutive shuffles of the new deck order and determine its randomness\n",
    "    for i in range(1, n+1):\n",
    "        shuffled_deck = classic_riffle(shuffled_deck)\n",
    "        randomness_values.append(randomness(shuffled_deck))\n",
    "    return randomness_values"
   ]
  },
  {
   "cell_type": "code",
   "execution_count": 392,
   "id": "8429e99f",
   "metadata": {},
   "outputs": [],
   "source": [
    "def repeat_middleout(n):\n",
    "    randomness_values = []\n",
    "    \n",
    "    # Create a list for the new deck order\n",
    "    shuffled_deck = ordered_deck(52)\n",
    "    \n",
    "    # Perform `n` consecutive shuffles of the new deck order and determine its randomness\n",
    "    for i in range(1, n+1):\n",
    "        shuffled_deck = middle_out(shuffled_deck)\n",
    "        randomness_values.append(randomness(shuffled_deck))\n",
    "    return randomness_values"
   ]
  },
  {
   "cell_type": "code",
   "execution_count": 393,
   "id": "c54ce719",
   "metadata": {},
   "outputs": [],
   "source": [
    "def repeat_topbottomrestack(n):\n",
    "    randomness_values = []\n",
    "    \n",
    "    # Create a list for the new deck order\n",
    "    shuffled_deck = ordered_deck(52)\n",
    "    \n",
    "    # Perform `n` consecutive shuffles of the new deck order and determine its randomness\n",
    "    for i in range(1, n+1):\n",
    "        shuffled_deck = topbottom_restack(shuffled_deck)\n",
    "        randomness_values.append(randomness(shuffled_deck))\n",
    "    return randomness_values"
   ]
  },
  {
   "cell_type": "code",
   "execution_count": 394,
   "id": "63c533ed",
   "metadata": {},
   "outputs": [],
   "source": [
    "def repeat_overunder(n):\n",
    "    randomness_values = []\n",
    "    \n",
    "    # Create a list for the new deck order\n",
    "    shuffled_deck = ordered_deck(52)\n",
    "    \n",
    "    # Perform `n` consecutive shuffles of the new deck order and determine its randomness\n",
    "    for i in range(1, n+1):\n",
    "        shuffled_deck = overunder(shuffled_deck)\n",
    "        randomness_values.append(randomness(shuffled_deck))\n",
    "    return randomness_values"
   ]
  },
  {
   "cell_type": "markdown",
   "id": "413553eb",
   "metadata": {},
   "source": [
    "Below we are storing our values for 100 consecutive shuffles of each shuffle method in convenient variables for use in our plot."
   ]
  },
  {
   "cell_type": "code",
   "execution_count": 395,
   "id": "7562b54e",
   "metadata": {},
   "outputs": [],
   "source": [
    "repeated_riffles = repeat_riffle(100)\n",
    "repeated_middleouts = repeat_middleout(100)\n",
    "repeated_topbottomrestacks = repeat_topbottomrestack(100)\n",
    "repeated_overunders = repeat_overunder(100)"
   ]
  },
  {
   "cell_type": "code",
   "execution_count": 417,
   "id": "84e3bd02",
   "metadata": {},
   "outputs": [
    {
     "data": {
      "image/png": "[encoded data removed]",
      "text/plain": [
       "<Figure size 432x288 with 1 Axes>"
      ]
     },
     "metadata": {
      "needs_background": "light"
     },
     "output_type": "display_data"
    }
   ],
   "source": [
    "# Plot the randomness of the deck as a function of the number of consecutive shuffles\n",
    "plt.plot(shuffles,repeated_riffles,'.', label = 'Riffle')\n",
    "plt.plot(shuffles,repeated_middleouts,'.', label = 'Middle-Out')\n",
    "plt.plot(shuffles,repeated_topbottomrestacks,'.', label = 'Top-Bottom Re-stack')\n",
    "plt.plot(shuffles,repeated_overunders,'.', label = 'Over-under Re-stack')\n",
    "\n",
    "plt.title('Randomness of Consecutive Shuffles on a Ordered Deck of Cards')\n",
    "plt.xlabel('Consecutive Shuffles')\n",
    "plt.ylabel('Randomness')\n",
    "\n",
    "plt.legend(loc = 'upper left')\n",
    "\n",
    "plt.show() # hides unnecesary output"
   ]
  },
  {
   "cell_type": "markdown",
   "id": "49d424f8",
   "metadata": {},
   "source": [
    "Now we can pay attention to the over-under re-stack, which oftentimes makes the randomness of the deck being shuffled drop even as close to the randomness of a new deck order, which as we determined before to be about 2.96. However, the over-under re-stack is also responsible for producing the highest levels of randomness for consecutive shuffles while the classic riffle, middle-out, and top-bottom re-stack methods tend to hover around 35. So if you're looking to shuffle a deck over let's say 40 times, these methods are your best bet. If you're looking for something more practical then aside from the over-under re-stack, the classic riffle achieves the acceptable level of randomness of around 35 the fastest, followed by the top-bottom re-stack and middle-out methods respectively."
   ]
  },
  {
   "cell_type": "markdown",
   "id": "8d8f8bb9",
   "metadata": {},
   "source": [
    "### Alternating Between Shuffling Methods"
   ]
  },
  {
   "cell_type": "markdown",
   "id": "25c3b313",
   "metadata": {},
   "source": [
    "Let's have some more fun by seeing what happens to the randomness as we alternate the shuffling methods. The function `alternating_shuffles` below will generate the randomness each time a shuffle is performed between two functions."
   ]
  },
  {
   "cell_type": "code",
   "execution_count": 416,
   "id": "4bf3a685",
   "metadata": {},
   "outputs": [],
   "source": [
    "def alternating_shuffles(shuffle1, shuffle2, n):\n",
    "    alternating_randomness = []\n",
    "    \n",
    "    # Accumulator variable that starts as the new deck order\n",
    "    shuffled_deck = ordered_deck(52)\n",
    "    \n",
    "    # Alternate between using shuffle 1 and shuffle 2 n times and calculate the randomness\n",
    "    for i in range(n):\n",
    "        if i % 2 == 0:\n",
    "            # Call the first shuffle to update the deck\n",
    "            shuffled_deck = shuffle1(shuffled_deck)\n",
    "            alternating_randomness.append(randomness(shuffled_deck))\n",
    "        else:\n",
    "            # Call the second shuffle to update the deck\n",
    "            shuffled_deck = shuffle2(shuffled_deck)\n",
    "            alternating_randomness.append(randomness(shuffled_deck))\n",
    "    \n",
    "    # Return the final shuffled deck\n",
    "    return alternating_randomness"
   ]
  },
  {
   "cell_type": "code",
   "execution_count": 423,
   "id": "1327cd64",
   "metadata": {},
   "outputs": [],
   "source": [
    "# Alternating randomness data for each pair of shuffles to generate plot\n",
    "riffle_middle = alternating_shuffles(classic_riffle, middle_out, 100)\n",
    "riffle_topbottom = alternating_shuffles(classic_riffle, topbottom_restack, 100)\n",
    "riffle_overunder = alternating_shuffles(classic_riffle, overunder, 100)\n",
    "\n",
    "middle_topbottom = alternating_shuffles(middle_out, topbottom_restack, 100)\n",
    "middle_overunder = alternating_shuffles(middle_out, overunder, 100)\n",
    "\n",
    "topbottom_overunder = alternating_shuffles(topbottom_restack, overunder, 100)"
   ]
  },
  {
   "cell_type": "markdown",
   "id": "998c9e1d",
   "metadata": {},
   "source": [
    "After preparing the randomness data for the alternating shuffle pairs as shown above, we can now generate a plot to see if there is anything interesting."
   ]
  },
  {
   "cell_type": "code",
   "execution_count": 424,
   "id": "8c4871e7",
   "metadata": {},
   "outputs": [
    {
     "data": {
      "image/png": "[encoded data removed]",
      "text/plain": [
       "<Figure size 432x288 with 1 Axes>"
      ]
     },
     "metadata": {
      "needs_background": "light"
     },
     "output_type": "display_data"
    }
   ],
   "source": [
    "# Plot the randomness of the deck as a function of the number of alternating shuffles\n",
    "plt.plot(shuffles,riffle_middle,'.', label = 'Riffle & Middle')\n",
    "plt.plot(shuffles,riffle_topbottom,'.', label = 'Riffle & Top-Bottom')\n",
    "plt.plot(shuffles,riffle_overunder,'.', label = 'Riffle & Over-under')\n",
    "plt.plot(shuffles,middle_topbottom,'.', label = 'Middle & Top-Bottom')\n",
    "plt.plot(shuffles,middle_overunder,'.', label = 'Middle & Over-under')\n",
    "plt.plot(shuffles,topbottom_overunder,'.', label = 'Top-Bottom & Over-under')\n",
    "\n",
    "plt.title('Randomness of Alternating Shuffles on a Ordered Deck of Cards')\n",
    "plt.xlabel('Alternated Shuffles')\n",
    "plt.ylabel('Randomness')\n",
    "\n",
    "plt.legend(loc = 'lower right')\n",
    "\n",
    "plt.show() # hides unnecesary output"
   ]
  },
  {
   "cell_type": "markdown",
   "id": "5cf6d734",
   "metadata": {},
   "source": [
    "Observing the plot shows that alternating the shuffles makes it the randomness reach acceptable values between 30 and 40, although it takes middle and top-bottom (two of the worst shuffling methods as we've seen) a little while to get to that acceptable level of randomness."
   ]
  },
  {
   "cell_type": "markdown",
   "id": "c83e92b5",
   "metadata": {},
   "source": [
    "## Conclusions"
   ]
  },
  {
   "cell_type": "markdown",
   "id": "3331fc67",
   "metadata": {},
   "source": [
    "We have been able to study the randomness of many shuffling methods such as the classic riffle, middle-out, top-bottom, and over-under re-stack. The results obtained are very much tied to how we defined our function in python. Our analysis of the average randomness of each shuffling method when used once on a new deck order for 100 trials yielded that the classic riffle and the over-under re-stack randomizes a new deck order to an acceptable level of around 25 and the middle-out and top-to-bottom re-stack shuffle methods were quite ineffective in randomizing the deck on the first try as their average randomness values were below 10.\n",
    "\n",
    "The most efficient shuffling method by far was the over-under re-stack and classic riffle, which reached an acceptable level of randomness in about 10 consecutive shuffles, where as the middle-out and top-to-bottom re-stack methods reached an acceptable level at around 40 consecutive shuffles. The over-under shuffle produced randomness values that were all over the place suggesting that the randomization of the deck is  randomly undone with consecutive shuffles. The remaining three shuffling methods though on averaged hovered around a randomness value of 35 after about 40 consecutive shuffles.\n",
    "\n",
    "When we alternated between shuffles we saw that the time to get to an acceptable level of randomness is reduced for all combinations of shuffles. The randomness of the deck for these alternating consecutive shuffles hovered around 30 to 40."
   ]
  },
  {
   "cell_type": "markdown",
   "id": "a66e314e",
   "metadata": {},
   "source": [
    "### Limitations & Future Research"
   ]
  },
  {
   "cell_type": "markdown",
   "id": "c1457413",
   "metadata": {},
   "source": [
    "For the middle-out method, we defined the function such that the deck is split into thirds using a binomial distribution. It may have been more appropriate to use a bimodal distribution to pick out two positions to split the deck into thirds. Additionally, there may also be a function that can several obtain values from a multimodal distribution. Such a function can be used to divide a deck into $n$ sections by selecting the cards as the start and end of the sections for the top-to-bottom re-stack method. The current function for the top-to-bottom re-stack can divide the deck into 30+ sections, which is not realistic. Usually someone will divide the deck into 5 to 10 sections, so implementing this limitation may be a more practical representation of the shuffle."
   ]
  },
  {
   "cell_type": "markdown",
   "id": "1770263c",
   "metadata": {},
   "source": [
    "## References\n",
    "\n",
    "[1] https://realpython.com/lessons/while-loops-and-lists/\n",
    "\n",
    "[2] https://en.wikipedia.org/wiki/Randomness_test"
   ]
  }
 ],
 "metadata": {
  "kernelspec": {
   "display_name": "Python 3 (ipykernel)",
   "language": "python",
   "name": "python3"
  },
  "language_info": {
   "codemirror_mode": {
    "name": "ipython",
    "version": 3
   },
   "file_extension": ".py",
   "mimetype": "text/x-python",
   "name": "python",
   "nbconvert_exporter": "python",
   "pygments_lexer": "ipython3",
   "version": "3.9.7"
  }
 },
 "nbformat": 4,
 "nbformat_minor": 5
}
